{
 "cells": [
  {
   "cell_type": "markdown",
   "id": "557ea595-1ad3-486b-87a1-bc86733e0b82",
   "metadata": {},
   "source": [
    "# Disaster Tweets Kaggle Competition\n",
    "\n",
    "The goal of this project is to predict which tweets are about a disaster using natural language processing.\n",
    "\n",
    "## Import Statements"
   ]
  },
  {
   "cell_type": "code",
   "execution_count": 21,
   "id": "b26bb237-ee1c-4c30-8c7e-1902898e3b21",
   "metadata": {},
   "outputs": [],
   "source": [
    "import pandas as pd\n",
    "import numpy as np\n",
    "import matplotlib.pyplot as plt\n",
    "import seaborn as sns\n",
    "import string\n",
    "import re\n",
    "\n",
    "from tqdm import tqdm\n",
    "from nltk.tokenize import word_tokenize\n",
    "from nltk.corpus import stopwords\n",
    "\n",
    "stop = set(stopwords.words('english'))\n",
    "\n",
    "from sklearn.model_selection import train_test_split\n",
    "\n",
    "import tensorflow as tf\n",
    "import keras\n",
    "from keras import layers\n",
    "from tensorflow.keras.preprocessing.text import Tokenizer\n",
    "from tensorflow.keras.preprocessing.sequence import pad_sequences"
   ]
  },
  {
   "cell_type": "code",
   "execution_count": 3,
   "id": "7ea7e7fc-7f21-4225-a7d9-6dabb3ecf94d",
   "metadata": {},
   "outputs": [],
   "source": [
    "df_train = pd.read_csv('data/train.csv')\n",
    "df_test = pd.read_csv('data/test.csv')"
   ]
  },
  {
   "cell_type": "markdown",
   "id": "99e2b92f-4d41-45d4-9e90-2e5a6e6b05f0",
   "metadata": {},
   "source": [
    "## Exploratory Data Analysis\n",
    "\n",
    "Let us look at what the dataset looks like first."
   ]
  },
  {
   "cell_type": "code",
   "execution_count": 4,
   "id": "a26d978f-526c-463b-a486-4d2ec0609b17",
   "metadata": {},
   "outputs": [
    {
     "data": {
      "text/html": [
       "<div>\n",
       "<style scoped>\n",
       "    .dataframe tbody tr th:only-of-type {\n",
       "        vertical-align: middle;\n",
       "    }\n",
       "\n",
       "    .dataframe tbody tr th {\n",
       "        vertical-align: top;\n",
       "    }\n",
       "\n",
       "    .dataframe thead th {\n",
       "        text-align: right;\n",
       "    }\n",
       "</style>\n",
       "<table border=\"1\" class=\"dataframe\">\n",
       "  <thead>\n",
       "    <tr style=\"text-align: right;\">\n",
       "      <th></th>\n",
       "      <th>id</th>\n",
       "      <th>keyword</th>\n",
       "      <th>location</th>\n",
       "      <th>text</th>\n",
       "      <th>target</th>\n",
       "    </tr>\n",
       "  </thead>\n",
       "  <tbody>\n",
       "    <tr>\n",
       "      <th>0</th>\n",
       "      <td>1</td>\n",
       "      <td>NaN</td>\n",
       "      <td>NaN</td>\n",
       "      <td>Our Deeds are the Reason of this #earthquake M...</td>\n",
       "      <td>1</td>\n",
       "    </tr>\n",
       "    <tr>\n",
       "      <th>1</th>\n",
       "      <td>4</td>\n",
       "      <td>NaN</td>\n",
       "      <td>NaN</td>\n",
       "      <td>Forest fire near La Ronge Sask. Canada</td>\n",
       "      <td>1</td>\n",
       "    </tr>\n",
       "    <tr>\n",
       "      <th>2</th>\n",
       "      <td>5</td>\n",
       "      <td>NaN</td>\n",
       "      <td>NaN</td>\n",
       "      <td>All residents asked to 'shelter in place' are ...</td>\n",
       "      <td>1</td>\n",
       "    </tr>\n",
       "    <tr>\n",
       "      <th>3</th>\n",
       "      <td>6</td>\n",
       "      <td>NaN</td>\n",
       "      <td>NaN</td>\n",
       "      <td>13,000 people receive #wildfires evacuation or...</td>\n",
       "      <td>1</td>\n",
       "    </tr>\n",
       "    <tr>\n",
       "      <th>4</th>\n",
       "      <td>7</td>\n",
       "      <td>NaN</td>\n",
       "      <td>NaN</td>\n",
       "      <td>Just got sent this photo from Ruby #Alaska as ...</td>\n",
       "      <td>1</td>\n",
       "    </tr>\n",
       "  </tbody>\n",
       "</table>\n",
       "</div>"
      ],
      "text/plain": [
       "   id keyword location                                               text  \\\n",
       "0   1     NaN      NaN  Our Deeds are the Reason of this #earthquake M...   \n",
       "1   4     NaN      NaN             Forest fire near La Ronge Sask. Canada   \n",
       "2   5     NaN      NaN  All residents asked to 'shelter in place' are ...   \n",
       "3   6     NaN      NaN  13,000 people receive #wildfires evacuation or...   \n",
       "4   7     NaN      NaN  Just got sent this photo from Ruby #Alaska as ...   \n",
       "\n",
       "   target  \n",
       "0       1  \n",
       "1       1  \n",
       "2       1  \n",
       "3       1  \n",
       "4       1  "
      ]
     },
     "execution_count": 4,
     "metadata": {},
     "output_type": "execute_result"
    }
   ],
   "source": [
    "df_train.head()"
   ]
  },
  {
   "cell_type": "code",
   "execution_count": 5,
   "id": "a51a9f56-7091-49a6-b877-4b1847d9324e",
   "metadata": {},
   "outputs": [
    {
     "data": {
      "text/html": [
       "<div>\n",
       "<style scoped>\n",
       "    .dataframe tbody tr th:only-of-type {\n",
       "        vertical-align: middle;\n",
       "    }\n",
       "\n",
       "    .dataframe tbody tr th {\n",
       "        vertical-align: top;\n",
       "    }\n",
       "\n",
       "    .dataframe thead th {\n",
       "        text-align: right;\n",
       "    }\n",
       "</style>\n",
       "<table border=\"1\" class=\"dataframe\">\n",
       "  <thead>\n",
       "    <tr style=\"text-align: right;\">\n",
       "      <th></th>\n",
       "      <th>id</th>\n",
       "      <th>keyword</th>\n",
       "      <th>location</th>\n",
       "      <th>text</th>\n",
       "      <th>target</th>\n",
       "    </tr>\n",
       "  </thead>\n",
       "  <tbody>\n",
       "    <tr>\n",
       "      <th>7608</th>\n",
       "      <td>10869</td>\n",
       "      <td>NaN</td>\n",
       "      <td>NaN</td>\n",
       "      <td>Two giant cranes holding a bridge collapse int...</td>\n",
       "      <td>1</td>\n",
       "    </tr>\n",
       "    <tr>\n",
       "      <th>7609</th>\n",
       "      <td>10870</td>\n",
       "      <td>NaN</td>\n",
       "      <td>NaN</td>\n",
       "      <td>@aria_ahrary @TheTawniest The out of control w...</td>\n",
       "      <td>1</td>\n",
       "    </tr>\n",
       "    <tr>\n",
       "      <th>7610</th>\n",
       "      <td>10871</td>\n",
       "      <td>NaN</td>\n",
       "      <td>NaN</td>\n",
       "      <td>M1.94 [01:04 UTC]?5km S of Volcano Hawaii. htt...</td>\n",
       "      <td>1</td>\n",
       "    </tr>\n",
       "    <tr>\n",
       "      <th>7611</th>\n",
       "      <td>10872</td>\n",
       "      <td>NaN</td>\n",
       "      <td>NaN</td>\n",
       "      <td>Police investigating after an e-bike collided ...</td>\n",
       "      <td>1</td>\n",
       "    </tr>\n",
       "    <tr>\n",
       "      <th>7612</th>\n",
       "      <td>10873</td>\n",
       "      <td>NaN</td>\n",
       "      <td>NaN</td>\n",
       "      <td>The Latest: More Homes Razed by Northern Calif...</td>\n",
       "      <td>1</td>\n",
       "    </tr>\n",
       "  </tbody>\n",
       "</table>\n",
       "</div>"
      ],
      "text/plain": [
       "         id keyword location  \\\n",
       "7608  10869     NaN      NaN   \n",
       "7609  10870     NaN      NaN   \n",
       "7610  10871     NaN      NaN   \n",
       "7611  10872     NaN      NaN   \n",
       "7612  10873     NaN      NaN   \n",
       "\n",
       "                                                   text  target  \n",
       "7608  Two giant cranes holding a bridge collapse int...       1  \n",
       "7609  @aria_ahrary @TheTawniest The out of control w...       1  \n",
       "7610  M1.94 [01:04 UTC]?5km S of Volcano Hawaii. htt...       1  \n",
       "7611  Police investigating after an e-bike collided ...       1  \n",
       "7612  The Latest: More Homes Razed by Northern Calif...       1  "
      ]
     },
     "execution_count": 5,
     "metadata": {},
     "output_type": "execute_result"
    }
   ],
   "source": [
    "df_train.tail()"
   ]
  },
  {
   "cell_type": "markdown",
   "id": "a492eed5-a922-4f56-b429-6106494473de",
   "metadata": {},
   "source": [
    "We see missing values for keyword and location. Let's see how many there are for every column."
   ]
  },
  {
   "cell_type": "code",
   "execution_count": 6,
   "id": "350b951d-680f-4456-bb15-baad8d67bc39",
   "metadata": {},
   "outputs": [
    {
     "data": {
      "text/plain": [
       "id             0\n",
       "keyword       61\n",
       "location    2533\n",
       "text           0\n",
       "target         0\n",
       "dtype: int64"
      ]
     },
     "execution_count": 6,
     "metadata": {},
     "output_type": "execute_result"
    }
   ],
   "source": [
    "df_train.isna().sum()"
   ]
  },
  {
   "cell_type": "markdown",
   "id": "1c11c0a7-3300-41fb-9b47-74dc5ded59b3",
   "metadata": {},
   "source": [
    "This is interesting. Fortunately, we won't be using keyword and location for the predictions. The tweet itself should be more than enough.\n",
    "\n",
    "Let us also look at how many of the tweet are actually about disasters and how many aren't."
   ]
  },
  {
   "cell_type": "code",
   "execution_count": 26,
   "id": "4a740cb1-278e-47fb-93a4-f2f689b05179",
   "metadata": {},
   "outputs": [
    {
     "data": {
      "text/plain": [
       "<Axes: xlabel='target', ylabel='count'>"
      ]
     },
     "execution_count": 26,
     "metadata": {},
     "output_type": "execute_result"
    },
    {
     "data": {
      "image/png": "[encoded data removed]",
      "text/plain": [
       "<Figure size 640x480 with 1 Axes>"
      ]
     },
     "metadata": {},
     "output_type": "display_data"
    }
   ],
   "source": [
    "target_counts = df_train['target'].value_counts()\n",
    "sns.barplot(x=target_counts.index,y=target_counts)"
   ]
  },
  {
   "cell_type": "markdown",
   "id": "041372e9-d63c-4378-b42f-b18161572806",
   "metadata": {},
   "source": [
    "Now it's time to perform some cleaning by removing data from the text that we don't need."
   ]
  },
  {
   "cell_type": "code",
   "execution_count": 10,
   "id": "610d06fb-05fa-4243-921d-40815c32c3e7",
   "metadata": {},
   "outputs": [],
   "source": [
    "# Removing <> tags\n",
    "\n",
    "def clean_text(text):\n",
    "    # Removing <> tags\n",
    "    text = re.sub('<.*?>+', '', text)\n",
    "    text = text.lower()\n",
    "    # Removing puntuctions\n",
    "    table = str.maketrans('','',string.punctuation)\n",
    "    text = text.translate(table)\n",
    "    # Removing URL\n",
    "    text = re.sub(r\"https?:\\/\\/t.co\\/[A-Za-z0-9]+\",'',text)\n",
    "    # Removing Emojis\n",
    "    emojis = re.compile(\"[\"\n",
    "                           u\"\\U0001F600-\\U0001F64F\"  # emoticons\n",
    "                           u\"\\U0001F300-\\U0001F5FF\"  # symbols & pictographs\n",
    "                           u\"\\U0001F680-\\U0001F6FF\"  # transport & map symbols\n",
    "                           u\"\\U0001F1E0-\\U0001F1FF\"  # flags (iOS)\n",
    "                           u\"\\U00002702-\\U000027B0\"\n",
    "                           u\"\\U000024C2-\\U0001F251\"\n",
    "                           \"]+\", flags=re.UNICODE)\n",
    "    \n",
    "    text = re.sub(emojis,'',text)\n",
    "    return text\n"
   ]
  },
  {
   "cell_type": "code",
   "execution_count": 11,
   "id": "dd38b063-70bc-4230-ac30-4f49eaf022e9",
   "metadata": {},
   "outputs": [],
   "source": [
    "df_train['cleaned_text'] = df_train['text'].apply(lambda x : clean_text(x))\n",
    "\n",
    "df_test['cleaned_text'] = df_test['text'].apply(lambda x : clean_text(x))"
   ]
  },
  {
   "cell_type": "markdown",
   "id": "240525e3-7b30-4ad8-b787-d56c359190a7",
   "metadata": {},
   "source": [
    "It might also be useful to look at the distribution of the word count for the tweets."
   ]
  },
  {
   "cell_type": "code",
   "execution_count": 16,
   "id": "d4c4b21e-b211-48d0-a6f1-05d4a9761203",
   "metadata": {},
   "outputs": [
    {
     "data": {
      "text/plain": [
       "<Axes: ylabel='Density'>"
      ]
     },
     "execution_count": 16,
     "metadata": {},
     "output_type": "execute_result"
    },
    {
     "data": {
      "image/png": "[encoded data removed]",
      "text/plain": [
       "<Figure size 640x480 with 1 Axes>"
      ]
     },
     "metadata": {},
     "output_type": "display_data"
    }
   ],
   "source": [
    "df_train['totalwords'] = df_train['cleaned_text'].str.split().str.len()\n",
    "df_train['totalwords'].plot.kde()"
   ]
  },
  {
   "cell_type": "markdown",
   "id": "67acccdf-677a-43ab-ae14-067a4a9dc2d7",
   "metadata": {},
   "source": [
    "## Processing Data\n",
    "\n",
    "It's time to convert the text into a format that we can use as imput for the neural network. The below code adds every word from the tweet into a list that will later be used to convert the words into numbers. I've done this for both the train and test data."
   ]
  },
  {
   "cell_type": "code",
   "execution_count": 10,
   "id": "42d7842e-2f32-4519-8330-18accd2ef5ae",
   "metadata": {},
   "outputs": [
    {
     "name": "stderr",
     "output_type": "stream",
     "text": [
      "100%|█████████████████████████████████████████████████████████████████████████████████████████| 7613/7613 [00:00<00:00, 20693.64it/s]\n",
      "100%|█████████████████████████████████████████████████████████████████████████████████████████| 3263/3263 [00:00<00:00, 20876.10it/s]\n"
     ]
    }
   ],
   "source": [
    "train_words = []\n",
    "for review in tqdm(df_train['cleaned_text']):\n",
    "    words = [ word.lower() for word in word_tokenize(review) if (word.isalpha() == 1 ) & (word not in stop) ]\n",
    "    train_words.append(words)\n",
    "\n",
    "test_words = []\n",
    "for review in tqdm(df_test['cleaned_text']):\n",
    "    words = [ word.lower() for word in word_tokenize(review) if (word.isalpha() == 1 ) & (word not in stop) ]\n",
    "    test_words.append(words)\n",
    "\n",
    "all_words = train_words + test_words"
   ]
  },
  {
   "cell_type": "markdown",
   "id": "c9fc8c02-e37f-40d6-ab3d-f5430dc7be8a",
   "metadata": {},
   "source": [
    "Now it's time to actually tokenize the words. I'm using NLTK, which actually returns the **syllables** from the words. I'm fitting the tokenizer on both train and test data the words but converting the sequences only for the training data."
   ]
  },
  {
   "cell_type": "code",
   "execution_count": 11,
   "id": "4abb796c-5c6b-4bb5-a433-f5f47cf04c75",
   "metadata": {},
   "outputs": [],
   "source": [
    "tokenizer = Tokenizer()\n",
    "tokenizer.fit_on_texts(all_words)\n",
    "train_sequences = tokenizer.texts_to_sequences(train_words)\n",
    "\n",
    "train_pad = pad_sequences(train_sequences, maxlen=100)"
   ]
  },
  {
   "cell_type": "code",
   "execution_count": 12,
   "id": "3b0964f1-1187-40ca-a8f6-edc36efa4695",
   "metadata": {},
   "outputs": [
    {
     "name": "stdout",
     "output_type": "stream",
     "text": [
      "Number of unique tokens :  21324\n"
     ]
    }
   ],
   "source": [
    "word2index = tokenizer.word_index\n",
    "print(\"Number of unique tokens : \",len(word2index)+1)"
   ]
  },
  {
   "cell_type": "code",
   "execution_count": 13,
   "id": "bc559a12-9127-4f2b-bfc0-736d9c5dd27b",
   "metadata": {},
   "outputs": [],
   "source": [
    "X_train,X_val,y_train,y_val = train_test_split(train_pad, df_train['target'].values, test_size = 0.2, random_state = 0)"
   ]
  },
  {
   "cell_type": "markdown",
   "id": "b3a760c5-aa69-4602-8aae-5905cd118a0a",
   "metadata": {},
   "source": [
    "## Models\n",
    "I'll be trying this with multiple RNN models that are provided by Keras. The first layer is always the embeddings layer, but the hidden layers use RNN.\n",
    "\n",
    "### Simple RNN\n",
    "This uses a vanilla RNN layer without any modifications. Let us see how it performs."
   ]
  },
  {
   "cell_type": "code",
   "execution_count": 15,
   "id": "a2902097-1a04-41dd-9b0a-15b6772f1b69",
   "metadata": {},
   "outputs": [
    {
     "name": "stdout",
     "output_type": "stream",
     "text": [
      "Model: \"sequential_1\"\n",
      "_________________________________________________________________\n",
      " Layer (type)                Output Shape              Param #   \n",
      "=================================================================\n",
      " embedding_1 (Embedding)     (None, 100, 128)          2729472   \n",
      "                                                                 \n",
      " simple_rnn_1 (SimpleRNN)    (None, 128)               32896     \n",
      "                                                                 \n",
      " dense_1 (Dense)             (None, 1)                 129       \n",
      "                                                                 \n",
      "=================================================================\n",
      "Total params: 2762497 (10.54 MB)\n",
      "Trainable params: 2762497 (10.54 MB)\n",
      "Non-trainable params: 0 (0.00 Byte)\n",
      "_________________________________________________________________\n"
     ]
    }
   ],
   "source": [
    "model1 = keras.Sequential()\n",
    "# Add an Embedding layer expecting input vocab of size 1000, and\n",
    "# output embedding dimension of size 64.\n",
    "model1.add(layers.Embedding(input_dim=len(word2index)+1,input_length=100, output_dim=128))\n",
    "\n",
    "# Add a LSTM layer with 128 internal units.\n",
    "model1.add(layers.SimpleRNN(128))\n",
    "\n",
    "# Add a Dense layer with 10 units.\n",
    "model1.add(layers.Dense(1, activation='sigmoid'))\n",
    "\n",
    "model1.summary()\n"
   ]
  },
  {
   "cell_type": "code",
   "execution_count": 16,
   "id": "4c618f9a-87a8-46af-be31-62102b3957dc",
   "metadata": {},
   "outputs": [],
   "source": [
    "model1.compile(loss='binary_crossentropy',optimizer='adam',metrics=['accuracy'])"
   ]
  },
  {
   "cell_type": "code",
   "execution_count": 17,
   "id": "c462aa6e-a1f8-4541-a775-63cc645058af",
   "metadata": {},
   "outputs": [
    {
     "name": "stdout",
     "output_type": "stream",
     "text": [
      "Epoch 1/10\n"
     ]
    },
    {
     "name": "stderr",
     "output_type": "stream",
     "text": [
      "2023-07-29 18:56:31.092182: I tensorflow/compiler/xla/stream_executor/cuda/cuda_blas.cc:606] TensorFloat-32 will be used for the matrix multiplication. This will only be logged once.\n",
      "2023-07-29 18:56:31.137122: I tensorflow/compiler/xla/service/service.cc:168] XLA service 0x7fb676981340 initialized for platform CUDA (this does not guarantee that XLA will be used). Devices:\n",
      "2023-07-29 18:56:31.137151: I tensorflow/compiler/xla/service/service.cc:176]   StreamExecutor device (0): NVIDIA GeForce RTX 3050 Laptop GPU, Compute Capability 8.6\n",
      "2023-07-29 18:56:31.141457: I tensorflow/compiler/mlir/tensorflow/utils/dump_mlir_util.cc:255] disabling MLIR crash reproducer, set env var `MLIR_CRASH_REPRODUCER_DIRECTORY` to enable.\n",
      "2023-07-29 18:56:31.150857: I tensorflow/compiler/xla/stream_executor/cuda/cuda_dnn.cc:432] Loaded cuDNN version 8902\n",
      "2023-07-29 18:56:31.226640: I ./tensorflow/compiler/jit/device_compiler.h:186] Compiled cluster using XLA!  This line is logged at most once for the lifetime of the process.\n"
     ]
    },
    {
     "name": "stdout",
     "output_type": "stream",
     "text": [
      "96/96 [==============================] - 10s 97ms/step - loss: 0.6505 - accuracy: 0.6136 - val_loss: 0.5480 - val_accuracy: 0.7538\n",
      "Epoch 2/10\n",
      "96/96 [==============================] - 6s 62ms/step - loss: 0.3154 - accuracy: 0.8796 - val_loss: 0.5213 - val_accuracy: 0.7505\n",
      "Epoch 3/10\n",
      "96/96 [==============================] - 4s 38ms/step - loss: 0.1118 - accuracy: 0.9663 - val_loss: 0.5987 - val_accuracy: 0.7400\n",
      "Epoch 4/10\n",
      "96/96 [==============================] - 4s 37ms/step - loss: 0.0659 - accuracy: 0.9783 - val_loss: 0.5896 - val_accuracy: 0.7702\n",
      "Epoch 5/10\n",
      "96/96 [==============================] - 3s 36ms/step - loss: 0.0534 - accuracy: 0.9821 - val_loss: 0.6252 - val_accuracy: 0.7459\n",
      "Epoch 6/10\n",
      "96/96 [==============================] - 3s 36ms/step - loss: 0.0526 - accuracy: 0.9811 - val_loss: 0.6521 - val_accuracy: 0.7525\n",
      "Epoch 7/10\n",
      "96/96 [==============================] - 3s 30ms/step - loss: 0.0483 - accuracy: 0.9826 - val_loss: 0.6296 - val_accuracy: 0.7689\n",
      "Epoch 8/10\n",
      "96/96 [==============================] - 3s 28ms/step - loss: 0.0406 - accuracy: 0.9849 - val_loss: 0.6696 - val_accuracy: 0.7452\n",
      "Epoch 9/10\n",
      "96/96 [==============================] - 3s 30ms/step - loss: 0.0400 - accuracy: 0.9837 - val_loss: 0.6352 - val_accuracy: 0.7774\n",
      "Epoch 10/10\n",
      "96/96 [==============================] - 3s 28ms/step - loss: 0.0369 - accuracy: 0.9826 - val_loss: 0.6913 - val_accuracy: 0.7498\n"
     ]
    }
   ],
   "source": [
    "history1=model1.fit(X_train,y_train,batch_size=64,epochs=10,validation_data=(X_val,y_val))"
   ]
  },
  {
   "cell_type": "code",
   "execution_count": 18,
   "id": "bf5ce945-c169-4903-9a56-ce23aced349b",
   "metadata": {},
   "outputs": [
    {
     "data": {
      "image/png": "[encoded data removed]",
      "text/plain": [
       "<Figure size 640x480 with 1 Axes>"
      ]
     },
     "metadata": {},
     "output_type": "display_data"
    }
   ],
   "source": [
    "plt.figure()\n",
    "plt.ylim([0, 1])\n",
    "plt.plot(history1.history['accuracy'], label='train')\n",
    "plt.plot(history1.history['val_accuracy'], label='validation')\n",
    "plt.legend()\n",
    "plt.grid()\n",
    "plt.show()"
   ]
  },
  {
   "cell_type": "markdown",
   "id": "427876d9-3155-4641-b428-9d73a3e2f90f",
   "metadata": {},
   "source": [
    "It looks like the model performance initially improved on the training data but was consistent across epoches throughout the validation models. Let us use a different model and see if it performs better.\n",
    "\n",
    "### LTSM Model"
   ]
  },
  {
   "cell_type": "code",
   "execution_count": 19,
   "id": "302c9c03-112e-4aac-89bd-f67a205de87a",
   "metadata": {},
   "outputs": [
    {
     "name": "stdout",
     "output_type": "stream",
     "text": [
      "Model: \"sequential_2\"\n",
      "_________________________________________________________________\n",
      " Layer (type)                Output Shape              Param #   \n",
      "=================================================================\n",
      " embedding_2 (Embedding)     (None, 100, 64)           1364736   \n",
      "                                                                 \n",
      " lstm (LSTM)                 (None, 128)               98816     \n",
      "                                                                 \n",
      " dense_2 (Dense)             (None, 1)                 129       \n",
      "                                                                 \n",
      "=================================================================\n",
      "Total params: 1463681 (5.58 MB)\n",
      "Trainable params: 1463681 (5.58 MB)\n",
      "Non-trainable params: 0 (0.00 Byte)\n",
      "_________________________________________________________________\n"
     ]
    }
   ],
   "source": [
    "model2 = keras.Sequential()\n",
    "# Add an Embedding layer expecting input vocab of size 1000, and\n",
    "# output embedding dimension of size 64.\n",
    "model2.add(layers.Embedding(input_dim=len(word2index)+1,input_length=100, output_dim=64))\n",
    "\n",
    "# Add a LSTM layer with 128 internal units.\n",
    "model2.add(layers.LSTM(128))\n",
    "\n",
    "# Add a Dense layer with 10 units.\n",
    "model2.add(layers.Dense(1, activation='sigmoid'))\n",
    "\n",
    "model2.summary()"
   ]
  },
  {
   "cell_type": "code",
   "execution_count": 20,
   "id": "b5a40294-0f50-49de-8fec-da9f11d12f90",
   "metadata": {},
   "outputs": [],
   "source": [
    "model2.compile(loss='binary_crossentropy',optimizer='adam',metrics=['accuracy'])"
   ]
  },
  {
   "cell_type": "code",
   "execution_count": 21,
   "id": "8ddf7859-e596-4b70-a34f-5d4a27b7f37d",
   "metadata": {},
   "outputs": [
    {
     "name": "stdout",
     "output_type": "stream",
     "text": [
      "Epoch 1/10\n",
      "96/96 [==============================] - 10s 90ms/step - loss: 0.5844 - accuracy: 0.6903 - val_loss: 0.4490 - val_accuracy: 0.7879\n",
      "Epoch 2/10\n",
      "96/96 [==============================] - 3s 34ms/step - loss: 0.3080 - accuracy: 0.8773 - val_loss: 0.4699 - val_accuracy: 0.7951\n",
      "Epoch 3/10\n",
      "96/96 [==============================] - 2s 17ms/step - loss: 0.1700 - accuracy: 0.9392 - val_loss: 0.5713 - val_accuracy: 0.7945\n",
      "Epoch 4/10\n",
      "96/96 [==============================] - 2s 16ms/step - loss: 0.1058 - accuracy: 0.9635 - val_loss: 0.5938 - val_accuracy: 0.7800\n",
      "Epoch 5/10\n",
      "96/96 [==============================] - 1s 13ms/step - loss: 0.0867 - accuracy: 0.9722 - val_loss: 0.6941 - val_accuracy: 0.7761\n",
      "Epoch 6/10\n",
      "96/96 [==============================] - 2s 16ms/step - loss: 0.0697 - accuracy: 0.9742 - val_loss: 0.7255 - val_accuracy: 0.7892\n",
      "Epoch 7/10\n",
      "96/96 [==============================] - 1s 10ms/step - loss: 0.0559 - accuracy: 0.9783 - val_loss: 0.7406 - val_accuracy: 0.7722\n",
      "Epoch 8/10\n",
      "96/96 [==============================] - 1s 10ms/step - loss: 0.0521 - accuracy: 0.9801 - val_loss: 0.8037 - val_accuracy: 0.7702\n",
      "Epoch 9/10\n",
      "96/96 [==============================] - 1s 10ms/step - loss: 0.0454 - accuracy: 0.9837 - val_loss: 0.8721 - val_accuracy: 0.7761\n",
      "Epoch 10/10\n",
      "96/96 [==============================] - 1s 11ms/step - loss: 0.0445 - accuracy: 0.9831 - val_loss: 0.7929 - val_accuracy: 0.7597\n"
     ]
    }
   ],
   "source": [
    "history2=model2.fit(X_train,y_train,batch_size=64,epochs=10,validation_data=(X_val,y_val))"
   ]
  },
  {
   "cell_type": "code",
   "execution_count": 33,
   "id": "63cf3f44-e075-402e-b4fe-dcd5b77123a6",
   "metadata": {},
   "outputs": [
    {
     "data": {
      "image/png": "[encoded data removed]",
      "text/plain": [
       "<Figure size 640x480 with 1 Axes>"
      ]
     },
     "metadata": {},
     "output_type": "display_data"
    }
   ],
   "source": [
    "plt.figure()\n",
    "plt.ylim([0, 1])\n",
    "plt.plot(history2.history['accuracy'], label='train')\n",
    "plt.plot(history2.history['val_accuracy'], label='validation')\n",
    "plt.legend()\n",
    "plt.grid()\n",
    "plt.show()"
   ]
  },
  {
   "cell_type": "markdown",
   "id": "0db34424-3864-44fe-9afe-97722f5a6a53",
   "metadata": {},
   "source": [
    "Here, the validation accuracy seems to be consistent after the first epoch. This model also seems to perform better than the Simple RNN model.\n",
    "\n",
    "### GRU RNN Model"
   ]
  },
  {
   "cell_type": "code",
   "execution_count": 22,
   "id": "12494f33-2a55-4995-9ffe-ed1ccef857b2",
   "metadata": {},
   "outputs": [
    {
     "name": "stdout",
     "output_type": "stream",
     "text": [
      "Model: \"sequential_3\"\n",
      "_________________________________________________________________\n",
      " Layer (type)                Output Shape              Param #   \n",
      "=================================================================\n",
      " embedding_3 (Embedding)     (None, 100, 64)           1364736   \n",
      "                                                                 \n",
      " gru (GRU)                   (None, 128)               74496     \n",
      "                                                                 \n",
      " dense_3 (Dense)             (None, 1)                 129       \n",
      "                                                                 \n",
      "=================================================================\n",
      "Total params: 1439361 (5.49 MB)\n",
      "Trainable params: 1439361 (5.49 MB)\n",
      "Non-trainable params: 0 (0.00 Byte)\n",
      "_________________________________________________________________\n"
     ]
    }
   ],
   "source": [
    "model3 = keras.Sequential()\n",
    "# Add an Embedding layer expecting input vocab of size 1000, and\n",
    "# output embedding dimension of size 64.\n",
    "model3.add(layers.Embedding(input_dim=len(word2index)+1,input_length=100, output_dim=64))\n",
    "\n",
    "# Add a LSTM layer with 128 internal units.\n",
    "model3.add(layers.GRU(128))\n",
    "\n",
    "# Add a Dense layer with 10 units.\n",
    "model3.add(layers.Dense(1, activation='sigmoid'))\n",
    "\n",
    "model3.summary()"
   ]
  },
  {
   "cell_type": "code",
   "execution_count": 23,
   "id": "21920e99-71c7-4819-8f42-244a64c3eb37",
   "metadata": {},
   "outputs": [],
   "source": [
    "model3.compile(loss='binary_crossentropy',optimizer='adam',metrics=['accuracy'])"
   ]
  },
  {
   "cell_type": "code",
   "execution_count": 24,
   "id": "8ac27d1f-df84-4dc7-95f9-1e4907b1f37c",
   "metadata": {},
   "outputs": [
    {
     "name": "stdout",
     "output_type": "stream",
     "text": [
      "Epoch 1/10\n",
      "96/96 [==============================] - 7s 62ms/step - loss: 0.5809 - accuracy: 0.6882 - val_loss: 0.4514 - val_accuracy: 0.7984\n",
      "Epoch 2/10\n",
      "96/96 [==============================] - 3s 32ms/step - loss: 0.2964 - accuracy: 0.8824 - val_loss: 0.4755 - val_accuracy: 0.7932\n",
      "Epoch 3/10\n",
      "96/96 [==============================] - 2s 23ms/step - loss: 0.1652 - accuracy: 0.9394 - val_loss: 0.5358 - val_accuracy: 0.7768\n",
      "Epoch 4/10\n",
      "96/96 [==============================] - 1s 9ms/step - loss: 0.0972 - accuracy: 0.9662 - val_loss: 0.6570 - val_accuracy: 0.7630\n",
      "Epoch 5/10\n",
      "96/96 [==============================] - 1s 12ms/step - loss: 0.0720 - accuracy: 0.9772 - val_loss: 0.6674 - val_accuracy: 0.7630\n",
      "Epoch 6/10\n",
      "96/96 [==============================] - 1s 10ms/step - loss: 0.0620 - accuracy: 0.9798 - val_loss: 0.7020 - val_accuracy: 0.7840\n",
      "Epoch 7/10\n",
      "96/96 [==============================] - 1s 9ms/step - loss: 0.0542 - accuracy: 0.9819 - val_loss: 0.7332 - val_accuracy: 0.7800\n",
      "Epoch 8/10\n",
      "96/96 [==============================] - 1s 7ms/step - loss: 0.0494 - accuracy: 0.9818 - val_loss: 0.7314 - val_accuracy: 0.7643\n",
      "Epoch 9/10\n",
      "96/96 [==============================] - 1s 8ms/step - loss: 0.0444 - accuracy: 0.9819 - val_loss: 0.7509 - val_accuracy: 0.7722\n",
      "Epoch 10/10\n",
      "96/96 [==============================] - 1s 11ms/step - loss: 0.0419 - accuracy: 0.9836 - val_loss: 0.8434 - val_accuracy: 0.7446\n"
     ]
    }
   ],
   "source": [
    "history3=model3.fit(X_train,y_train,batch_size=64,epochs=10,validation_data=(X_val,y_val))"
   ]
  },
  {
   "cell_type": "code",
   "execution_count": 25,
   "id": "9a88f950-3fe0-4c4b-8e82-cd17daaa6742",
   "metadata": {},
   "outputs": [
    {
     "data": {
      "image/png": "[encoded data removed]",
      "text/plain": [
       "<Figure size 640x480 with 1 Axes>"
      ]
     },
     "metadata": {},
     "output_type": "display_data"
    }
   ],
   "source": [
    "plt.figure()\n",
    "plt.ylim([0, 1])\n",
    "plt.plot(history3.history['accuracy'], label='train')\n",
    "plt.plot(history3.history['val_accuracy'], label='validation')\n",
    "plt.legend()\n",
    "plt.grid()\n",
    "plt.show()"
   ]
  },
  {
   "cell_type": "markdown",
   "id": "331baad9-7b0c-46bb-97de-6e549898fbd0",
   "metadata": {},
   "source": [
    "This model doesn't perform as well as the LTSM model.\n",
    "\n",
    "## Bidirectional RNN\n",
    "\n",
    "Now let's try a different kind of RNN called a bidirectional RNN. It will have one LTSM layer since that's what performed best for the unidirectional models."
   ]
  },
  {
   "cell_type": "code",
   "execution_count": 30,
   "id": "caf83de5-fdfc-409d-88b5-a7edbed72bf6",
   "metadata": {},
   "outputs": [
    {
     "name": "stdout",
     "output_type": "stream",
     "text": [
      "Model: \"sequential_5\"\n",
      "_________________________________________________________________\n",
      " Layer (type)                Output Shape              Param #   \n",
      "=================================================================\n",
      " embedding_5 (Embedding)     (None, 100, 64)           1364736   \n",
      "                                                                 \n",
      " bidirectional_1 (Bidirecti  (None, 256)               197632    \n",
      " onal)                                                           \n",
      "                                                                 \n",
      " dense_5 (Dense)             (None, 1)                 257       \n",
      "                                                                 \n",
      "=================================================================\n",
      "Total params: 1562625 (5.96 MB)\n",
      "Trainable params: 1562625 (5.96 MB)\n",
      "Non-trainable params: 0 (0.00 Byte)\n",
      "_________________________________________________________________\n"
     ]
    }
   ],
   "source": [
    "model4 = keras.Sequential()\n",
    "# Add an Embedding layer expecting input vocab of size 1000, and\n",
    "# output embedding dimension of size 64.\n",
    "model4.add(layers.Embedding(input_dim=len(word2index)+1,input_length=100, output_dim=64))\n",
    "\n",
    "# Add a LSTM layer with 128 internal units.\n",
    "model4.add(layers.Bidirectional(layers.LSTM(128)))\n",
    "\n",
    "# Add a Dense layer with 10 units.\n",
    "model4.add(layers.Dense(1, activation='sigmoid'))\n",
    "\n",
    "model4.summary()"
   ]
  },
  {
   "cell_type": "code",
   "execution_count": 31,
   "id": "23029d48-c771-4954-9362-b27400b3da7d",
   "metadata": {},
   "outputs": [],
   "source": [
    "model4.compile(loss='binary_crossentropy',optimizer='adam',metrics=['accuracy'])"
   ]
  },
  {
   "cell_type": "code",
   "execution_count": 32,
   "id": "27408f19-9f54-48ca-95a8-51a6e70256c0",
   "metadata": {},
   "outputs": [
    {
     "name": "stdout",
     "output_type": "stream",
     "text": [
      "Epoch 1/10\n",
      "96/96 [==============================] - 9s 68ms/step - loss: 0.5923 - accuracy: 0.6726 - val_loss: 0.4452 - val_accuracy: 0.7919\n",
      "Epoch 2/10\n",
      "96/96 [==============================] - 3s 35ms/step - loss: 0.3075 - accuracy: 0.8788 - val_loss: 0.4571 - val_accuracy: 0.7978\n",
      "Epoch 3/10\n",
      "96/96 [==============================] - 2s 21ms/step - loss: 0.1692 - accuracy: 0.9379 - val_loss: 0.5230 - val_accuracy: 0.7873\n",
      "Epoch 4/10\n",
      "96/96 [==============================] - 2s 18ms/step - loss: 0.1184 - accuracy: 0.9596 - val_loss: 0.6139 - val_accuracy: 0.7846\n",
      "Epoch 5/10\n",
      "96/96 [==============================] - 1s 15ms/step - loss: 0.0844 - accuracy: 0.9706 - val_loss: 0.6272 - val_accuracy: 0.7781\n",
      "Epoch 6/10\n",
      "96/96 [==============================] - 1s 12ms/step - loss: 0.0664 - accuracy: 0.9770 - val_loss: 0.7584 - val_accuracy: 0.7846\n",
      "Epoch 7/10\n",
      "96/96 [==============================] - 1s 13ms/step - loss: 0.0604 - accuracy: 0.9796 - val_loss: 0.7446 - val_accuracy: 0.7748\n",
      "Epoch 8/10\n",
      "96/96 [==============================] - 1s 14ms/step - loss: 0.0530 - accuracy: 0.9791 - val_loss: 0.7295 - val_accuracy: 0.7682\n",
      "Epoch 9/10\n",
      "96/96 [==============================] - 1s 14ms/step - loss: 0.0483 - accuracy: 0.9819 - val_loss: 0.9009 - val_accuracy: 0.7873\n",
      "Epoch 10/10\n",
      "96/96 [==============================] - 1s 12ms/step - loss: 0.0448 - accuracy: 0.9834 - val_loss: 0.7369 - val_accuracy: 0.7735\n"
     ]
    }
   ],
   "source": [
    "history4=model4.fit(X_train,y_train,batch_size=64,epochs=10,validation_data=(X_val,y_val))"
   ]
  },
  {
   "cell_type": "code",
   "execution_count": 33,
   "id": "b74157b4-e0b3-4a49-8047-24f1aad3498f",
   "metadata": {},
   "outputs": [
    {
     "data": {
      "image/png": "[encoded data removed]",
      "text/plain": [
       "<Figure size 640x480 with 1 Axes>"
      ]
     },
     "metadata": {},
     "output_type": "display_data"
    }
   ],
   "source": [
    "plt.figure()\n",
    "plt.ylim([0, 1])\n",
    "plt.plot(history4.history['accuracy'], label='train')\n",
    "plt.plot(history4.history['val_accuracy'], label='validation')\n",
    "plt.legend()\n",
    "plt.grid()\n",
    "plt.show()"
   ]
  },
  {
   "cell_type": "markdown",
   "id": "8a20d618-438f-453c-948d-b31e76138b99",
   "metadata": {},
   "source": [
    "This model performs well but not as good as the regular LTSM model.\n",
    "\n",
    "### Extra hidden layer\n",
    "\n",
    "Since the LTSM model performed the best, let's see if adding another hidden layer helps."
   ]
  },
  {
   "cell_type": "code",
   "execution_count": 34,
   "id": "fa5144ed-22ec-4982-90c1-2ccb30278bc7",
   "metadata": {},
   "outputs": [
    {
     "name": "stdout",
     "output_type": "stream",
     "text": [
      "Model: \"sequential_6\"\n",
      "_________________________________________________________________\n",
      " Layer (type)                Output Shape              Param #   \n",
      "=================================================================\n",
      " embedding_6 (Embedding)     (None, 100, 64)           1364736   \n",
      "                                                                 \n",
      " lstm_3 (LSTM)               (None, 100, 128)          98816     \n",
      "                                                                 \n",
      " lstm_4 (LSTM)               (None, 256)               394240    \n",
      "                                                                 \n",
      " dense_6 (Dense)             (None, 1)                 257       \n",
      "                                                                 \n",
      "=================================================================\n",
      "Total params: 1858049 (7.09 MB)\n",
      "Trainable params: 1858049 (7.09 MB)\n",
      "Non-trainable params: 0 (0.00 Byte)\n",
      "_________________________________________________________________\n"
     ]
    }
   ],
   "source": [
    "model5 = keras.Sequential()\n",
    "# Add an Embedding layer expecting input vocab of size 1000, and\n",
    "# output embedding dimension of size 64.\n",
    "model5.add(layers.Embedding(input_dim=len(word2index)+1,input_length=100, output_dim=64))\n",
    "\n",
    "# Add a LSTM layer with 128 internal units.\n",
    "model5.add(layers.LSTM(128,return_sequences=True))\n",
    "\n",
    "# Add a LSTM layer with 128 internal units.\n",
    "model5.add(layers.LSTM(256))\n",
    "\n",
    "# Add a Dense layer with 10 units.\n",
    "model5.add(layers.Dense(1, activation='sigmoid'))\n",
    "\n",
    "model5.summary()"
   ]
  },
  {
   "cell_type": "code",
   "execution_count": 35,
   "id": "a49cdbac-6f52-4fa5-8524-91ef14983438",
   "metadata": {},
   "outputs": [],
   "source": [
    "model5.compile(loss='binary_crossentropy',optimizer='adam',metrics=['accuracy'])"
   ]
  },
  {
   "cell_type": "code",
   "execution_count": 36,
   "id": "8fbf2bc6-1189-4dbf-b78e-21afb1947f87",
   "metadata": {},
   "outputs": [
    {
     "name": "stdout",
     "output_type": "stream",
     "text": [
      "Epoch 1/10\n",
      "96/96 [==============================] - 9s 68ms/step - loss: 0.6076 - accuracy: 0.6637 - val_loss: 0.4804 - val_accuracy: 0.7827\n",
      "Epoch 2/10\n",
      "96/96 [==============================] - 4s 38ms/step - loss: 0.3164 - accuracy: 0.8726 - val_loss: 0.4769 - val_accuracy: 0.7905\n",
      "Epoch 3/10\n",
      "96/96 [==============================] - 2s 20ms/step - loss: 0.1688 - accuracy: 0.9361 - val_loss: 0.5566 - val_accuracy: 0.7800\n",
      "Epoch 4/10\n",
      "96/96 [==============================] - 2s 19ms/step - loss: 0.1069 - accuracy: 0.9635 - val_loss: 0.6917 - val_accuracy: 0.7768\n",
      "Epoch 5/10\n",
      "96/96 [==============================] - 2s 20ms/step - loss: 0.0811 - accuracy: 0.9752 - val_loss: 0.6596 - val_accuracy: 0.7820\n",
      "Epoch 6/10\n",
      "96/96 [==============================] - 2s 18ms/step - loss: 0.0714 - accuracy: 0.9757 - val_loss: 0.7629 - val_accuracy: 0.7774\n",
      "Epoch 7/10\n",
      "96/96 [==============================] - 2s 17ms/step - loss: 0.0603 - accuracy: 0.9810 - val_loss: 0.7322 - val_accuracy: 0.7649\n",
      "Epoch 8/10\n",
      "96/96 [==============================] - 2s 17ms/step - loss: 0.0512 - accuracy: 0.9811 - val_loss: 0.8740 - val_accuracy: 0.7833\n",
      "Epoch 9/10\n",
      "96/96 [==============================] - 2s 17ms/step - loss: 0.0497 - accuracy: 0.9810 - val_loss: 0.7267 - val_accuracy: 0.7656\n",
      "Epoch 10/10\n",
      "96/96 [==============================] - 1s 14ms/step - loss: 0.0433 - accuracy: 0.9831 - val_loss: 0.9046 - val_accuracy: 0.7682\n"
     ]
    }
   ],
   "source": [
    "history5=model5.fit(X_train,y_train,batch_size=64,epochs=10,validation_data=(X_val,y_val))"
   ]
  },
  {
   "cell_type": "code",
   "execution_count": 37,
   "id": "b48991fb-f7b0-4cbf-9996-1224740ffd46",
   "metadata": {},
   "outputs": [
    {
     "data": {
      "image/png": "[encoded data removed]",
      "text/plain": [
       "<Figure size 640x480 with 1 Axes>"
      ]
     },
     "metadata": {},
     "output_type": "display_data"
    }
   ],
   "source": [
    "plt.figure()\n",
    "plt.ylim([0, 1])\n",
    "plt.plot(history5.history['accuracy'], label='train')\n",
    "plt.plot(history5.history['val_accuracy'], label='validation')\n",
    "plt.legend()\n",
    "plt.grid()\n",
    "plt.show()"
   ]
  },
  {
   "cell_type": "markdown",
   "id": "22a96d99-94bb-44d8-8d07-2009d5db3bd8",
   "metadata": {},
   "source": [
    "The model performance is a little worse with a hidden layer. So I think it's best to stick to the original LTSM model.\n",
    "\n",
    "## Test Data\n",
    "\n",
    "Now it's time to generate the predictions for the test data."
   ]
  },
  {
   "cell_type": "code",
   "execution_count": 38,
   "id": "7d001284-e3a3-44f8-9ae4-f214066062c1",
   "metadata": {},
   "outputs": [],
   "source": [
    "test_sequences = tokenizer.texts_to_sequences(test_words)\n",
    "\n",
    "test_pad = pad_sequences(test_sequences, maxlen=100)"
   ]
  },
  {
   "cell_type": "code",
   "execution_count": 48,
   "id": "00129b10-89a7-43e4-8614-a967819efa9a",
   "metadata": {},
   "outputs": [
    {
     "data": {
      "text/html": [
       "<div>\n",
       "<style scoped>\n",
       "    .dataframe tbody tr th:only-of-type {\n",
       "        vertical-align: middle;\n",
       "    }\n",
       "\n",
       "    .dataframe tbody tr th {\n",
       "        vertical-align: top;\n",
       "    }\n",
       "\n",
       "    .dataframe thead th {\n",
       "        text-align: right;\n",
       "    }\n",
       "</style>\n",
       "<table border=\"1\" class=\"dataframe\">\n",
       "  <thead>\n",
       "    <tr style=\"text-align: right;\">\n",
       "      <th></th>\n",
       "      <th>id</th>\n",
       "      <th>target</th>\n",
       "    </tr>\n",
       "  </thead>\n",
       "  <tbody>\n",
       "    <tr>\n",
       "      <th>0</th>\n",
       "      <td>0</td>\n",
       "      <td>0</td>\n",
       "    </tr>\n",
       "    <tr>\n",
       "      <th>1</th>\n",
       "      <td>2</td>\n",
       "      <td>0</td>\n",
       "    </tr>\n",
       "    <tr>\n",
       "      <th>2</th>\n",
       "      <td>3</td>\n",
       "      <td>0</td>\n",
       "    </tr>\n",
       "    <tr>\n",
       "      <th>3</th>\n",
       "      <td>9</td>\n",
       "      <td>0</td>\n",
       "    </tr>\n",
       "    <tr>\n",
       "      <th>4</th>\n",
       "      <td>11</td>\n",
       "      <td>0</td>\n",
       "    </tr>\n",
       "  </tbody>\n",
       "</table>\n",
       "</div>"
      ],
      "text/plain": [
       "   id  target\n",
       "0   0       0\n",
       "1   2       0\n",
       "2   3       0\n",
       "3   9       0\n",
       "4  11       0"
      ]
     },
     "execution_count": 48,
     "metadata": {},
     "output_type": "execute_result"
    }
   ],
   "source": [
    "sample_submission = pd.read_csv('data/sample_submission.csv')\n",
    "sample_submission.head()"
   ]
  },
  {
   "cell_type": "code",
   "execution_count": 49,
   "id": "773124f9-b34c-4f2a-b746-baf3f9161ebe",
   "metadata": {},
   "outputs": [
    {
     "name": "stdout",
     "output_type": "stream",
     "text": [
      "102/102 [==============================] - 0s 2ms/step\n"
     ]
    }
   ],
   "source": [
    "predictions = model2.predict(test_pad)\n",
    "predictions = np.round(predictions).astype(int)\n",
    "submission = pd.DataFrame({'id' : df_test['id']})\n",
    "submission['target'] = predictions\n",
    "submission.head()\n",
    "\n",
    "submission.to_csv('data/final_submission.csv', index=False)"
   ]
  },
  {
   "cell_type": "markdown",
   "id": "2fcfb299-cc17-4bb8-a481-19ea90a065cc",
   "metadata": {},
   "source": [
    "## Conclusion\n",
    "\n",
    "After trying multiple RNN models, it appears the LTSM model performed the best for the training data and the validation data after the split. Adding a hidden layer didn't appear to help. It might help to use transfer learning in this case. I plan to try it in the future and see if I notice any improvements."
   ]
  }
 ],
 "metadata": {
  "kernelspec": {
   "display_name": "Python 3 (ipykernel)",
   "language": "python",
   "name": "python3"
  },
  "language_info": {
   "codemirror_mode": {
    "name": "ipython",
    "version": 3
   },
   "file_extension": ".py",
   "mimetype": "text/x-python",
   "name": "python",
   "nbconvert_exporter": "python",
   "pygments_lexer": "ipython3",
   "version": "3.11.3"
  }
 },
 "nbformat": 4,
 "nbformat_minor": 5
}
